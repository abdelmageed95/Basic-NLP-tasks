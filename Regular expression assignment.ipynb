{
 "cells": [
  {
   "cell_type": "code",
   "execution_count": 36,
   "metadata": {},
   "outputs": [],
   "source": [
    "\n",
    "# Student name :  Abdelmageed Ahmed Abdelmageed Hassan \n",
    "\n",
    "\n",
    "class Match_stretchy_word:\n",
    "    \n",
    "    def Num_of_Matches(self ,Stretchy , words) :# enforce the output to be integer\n",
    "        \n",
    "        def isStretchy(word) :# return a boolen value indicate if word is stretchy or no\n",
    "            \n",
    "            stretchy_lenght  , word_lenght ,j = len(Stretchy) , len(word) ,0\n",
    "            \n",
    "            for i in range(stretchy_lenght):# loop over the strechy word\n",
    "                \n",
    "                # check that the lenght of words in the list > 0 \n",
    "                if (j < word_lenght) and (Stretchy[i] == word[j]):\n",
    "                    \n",
    "                    # ensure that the first character match in both stretchyand the word\n",
    "                    j += 1\n",
    "                    \n",
    "                    # check if any letter has 3 repeated letters         \n",
    "                elif (i > 1) and (Stretchy[i] == Stretchy[i - 1] == Stretchy[i - 2]):\n",
    "                    continue\n",
    "                    \n",
    "                        # check if the last letter is repeated \n",
    "                elif (0 < i < stretchy_lenght - 1) and (Stretchy[i - 1] == Stretchy[i] == Stretchy[i + 1]): \n",
    "                    continue\n",
    "                        \n",
    "                else:# if there is no repeated letters at least 3 time then return 0\n",
    "                    return False\n",
    "                \n",
    "                                   # return True or 1 if num of unique letter = num of letter in the word keeping the same sequence\n",
    "            return j == word_lenght  \n",
    "        \n",
    "        return sum(isStretchy(word) for word in words)\n",
    "    \n",
    "    \n",
    "    \n",
    "def run():\n",
    "    stretchy = input(\"enter the stretchy word :  \")\n",
    "    Stretchy = stretchy.lower()\n",
    "    origins = input(\"enter the suggested list : \").split()\n",
    "    origin = list((map(lambda word : word.lower(), origins)))\n",
    "    if (len(Stretchy)>= 0 )and (len(Stretchy) <= 100) and (len(origin)>= 0 )and (len(origin) <= 100) and(Stretchy.lower()):\n",
    "        test = Match_stretchy_word()\n",
    "        out = print( \"Num of matches :  \",test.Num_of_Matches(Stretchy , origin))\n",
    "        \n",
    "    else :\n",
    "        out = 'stretchy word is more than 100 charecters, Please make it shorter'\n",
    "        \n",
    "    return out \n"
   ]
  },
  {
   "cell_type": "code",
   "execution_count": 40,
   "metadata": {},
   "outputs": [
    {
     "name": "stdout",
     "output_type": "stream",
     "text": [
      "enter the stretchy word :  Heeeellllloooooooooo\n",
      "enter the suggested list : heloo hello Hello hella\n",
      "Num of matches :   3\n"
     ]
    }
   ],
   "source": [
    "run()"
   ]
  },
  {
   "cell_type": "code",
   "execution_count": 42,
   "metadata": {},
   "outputs": [
    {
     "name": "stdout",
     "output_type": "stream",
     "text": [
      "enter the stretchy word :  gGGgooooooooooooddddddddddddd\n",
      "enter the suggested list : good gooD GOOD Gog Gof\n",
      "Num of matches :   3\n"
     ]
    }
   ],
   "source": [
    "run()\n",
    "\n",
    "    "
   ]
  },
  {
   "cell_type": "code",
   "execution_count": 38,
   "metadata": {},
   "outputs": [
    {
     "name": "stdout",
     "output_type": "stream",
     "text": [
      "enter the stretchy word :  abdoooooooooooo\n",
      "enter the suggested list : Abdo abdo ABDO abdf ABDI abdi bdoa \n",
      "Num of matches :   3\n"
     ]
    }
   ],
   "source": [
    "run()\n"
   ]
  },
  {
   "cell_type": "code",
   "execution_count": null,
   "metadata": {},
   "outputs": [],
   "source": []
  },
  {
   "cell_type": "code",
   "execution_count": null,
   "metadata": {},
   "outputs": [],
   "source": []
  },
  {
   "cell_type": "code",
   "execution_count": null,
   "metadata": {},
   "outputs": [],
   "source": []
  }
 ],
 "metadata": {
  "kernelspec": {
   "display_name": "Python 3",
   "language": "python",
   "name": "python3"
  },
  "language_info": {
   "codemirror_mode": {
    "name": "ipython",
    "version": 3
   },
   "file_extension": ".py",
   "mimetype": "text/x-python",
   "name": "python",
   "nbconvert_exporter": "python",
   "pygments_lexer": "ipython3",
   "version": "3.7.6"
  }
 },
 "nbformat": 4,
 "nbformat_minor": 4
}
