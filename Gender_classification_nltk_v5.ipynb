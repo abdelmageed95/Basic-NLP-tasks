{
 "cells": [
  {
   "cell_type": "code",
   "execution_count": 1,
   "metadata": {},
   "outputs": [],
   "source": [
    "# importing the used libraries\n",
    "from nltk.corpus import names # get the names test\n",
    "#also we can download it using nltk.download('names')\n",
    "import random\n",
    "import nltk \n",
    "from sklearn.model_selection import KFold # latest importing version of cross validation \n",
    "# as it had its own module , sklearn developers added it to model_selection module\n",
    "# with name KFold "
   ]
  },
  {
   "cell_type": "code",
   "execution_count": 12,
   "metadata": {},
   "outputs": [],
   "source": [
    "# fun that return first letter , last letter  and check the letters that exist in the name\n",
    "def gender_features2(name):\n",
    "    features = {}\n",
    "    features[\"first_letter\"] = name[0].lower()\n",
    "    features[\"last_letter\"] = name[-1].lower()\n",
    "    for letter in 'abcdefghijklmnopqrstuvwxyz':\n",
    "        features[\"count({})\".format(letter)] = name.lower().count(letter)\n",
    "        features[\"has({})\".format(letter)] = (letter in name.lower())\n",
    "    return features"
   ]
  },
  {
   "cell_type": "code",
   "execution_count": 13,
   "metadata": {
    "scrolled": true
   },
   "outputs": [
    {
     "data": {
      "text/plain": [
       "{'first_letter': 'a',\n",
       " 'last_letter': 'd',\n",
       " 'count(a)': 2,\n",
       " 'has(a)': True,\n",
       " 'count(b)': 1,\n",
       " 'has(b)': True,\n",
       " 'count(c)': 0,\n",
       " 'has(c)': False,\n",
       " 'count(d)': 2,\n",
       " 'has(d)': True,\n",
       " 'count(e)': 3,\n",
       " 'has(e)': True,\n",
       " 'count(f)': 0,\n",
       " 'has(f)': False,\n",
       " 'count(g)': 1,\n",
       " 'has(g)': True,\n",
       " 'count(h)': 0,\n",
       " 'has(h)': False,\n",
       " 'count(i)': 0,\n",
       " 'has(i)': False,\n",
       " 'count(j)': 0,\n",
       " 'has(j)': False,\n",
       " 'count(k)': 0,\n",
       " 'has(k)': False,\n",
       " 'count(l)': 1,\n",
       " 'has(l)': True,\n",
       " 'count(m)': 1,\n",
       " 'has(m)': True,\n",
       " 'count(n)': 0,\n",
       " 'has(n)': False,\n",
       " 'count(o)': 0,\n",
       " 'has(o)': False,\n",
       " 'count(p)': 0,\n",
       " 'has(p)': False,\n",
       " 'count(q)': 0,\n",
       " 'has(q)': False,\n",
       " 'count(r)': 0,\n",
       " 'has(r)': False,\n",
       " 'count(s)': 0,\n",
       " 'has(s)': False,\n",
       " 'count(t)': 0,\n",
       " 'has(t)': False,\n",
       " 'count(u)': 0,\n",
       " 'has(u)': False,\n",
       " 'count(v)': 0,\n",
       " 'has(v)': False,\n",
       " 'count(w)': 0,\n",
       " 'has(w)': False,\n",
       " 'count(x)': 0,\n",
       " 'has(x)': False,\n",
       " 'count(y)': 0,\n",
       " 'has(y)': False,\n",
       " 'count(z)': 0,\n",
       " 'has(z)': False}"
      ]
     },
     "execution_count": 13,
     "metadata": {},
     "output_type": "execute_result"
    }
   ],
   "source": [
    "gender_features2('abdelmageed')"
   ]
  },
  {
   "cell_type": "code",
   "execution_count": 14,
   "metadata": {},
   "outputs": [],
   "source": [
    "\n",
    "labeled_names = ([(name, 'male') for name in names.words('male.txt')] +\n",
    "   [(name, 'female') for name in names.words('female.txt')])\n",
    "\n",
    "random.shuffle(labeled_names)# shuffle data to avoid bais in training data phase\n"
   ]
  },
  {
   "cell_type": "code",
   "execution_count": 15,
   "metadata": {},
   "outputs": [
    {
     "name": "stdout",
     "output_type": "stream",
     "text": [
      "accuracy: 0.7862903225806451\n",
      "accuracy: 0.7782258064516129\n",
      "accuracy: 0.771505376344086\n",
      "accuracy: 0.7809139784946236\n",
      "accuracy: 0.7833109017496636\n",
      "accuracy: 0.7604306864064603\n",
      "accuracy: 0.7550471063257066\n",
      "accuracy: 0.7873485868102288\n",
      "accuracy: 0.8034993270524899\n",
      "accuracy: 0.7698519515477793\n"
     ]
    }
   ],
   "source": [
    "# combine gender_feartures with the gender in a list of tuples \n",
    "featuresets = [(gender_features2(n), gender) for (n, gender) in labeled_names]\n",
    "\n",
    "#len(featuresets)\n",
    "# >>> 7944\n",
    "\n",
    "# split data (first 500 data points of featuresets for testing and the reminder data points for training )\n",
    "#train_set, test_set = featuresets[500:], featuresets[:500]\n",
    "\n",
    "\n",
    "# use apply_features to use memory economically, when using large corpora;\n",
    "from nltk.classify import apply_features\n",
    "train_set = apply_features(gender_features2, labeled_names[500:])\n",
    "test_set = apply_features(gender_features2, labeled_names[:500])\n",
    "\n",
    "kf = KFold(n_splits = 10)\n",
    "\n",
    "for traincv, testcv in kf.split(train_set):# loop through every fold  and train the model then printing accuracy\n",
    "    classifier = nltk.NaiveBayesClassifier.train(train_set[traincv[0]:traincv[len(traincv)-1]])\n",
    "    \n",
    "    print ('accuracy:', nltk.classify.util.accuracy(classifier, train_set[testcv[0]:testcv[len(testcv)-1]]))"
   ]
  },
  {
   "cell_type": "code",
   "execution_count": 17,
   "metadata": {},
   "outputs": [
    {
     "name": "stdout",
     "output_type": "stream",
     "text": [
      "male\n",
      "female\n",
      "male\n"
     ]
    }
   ],
   "source": [
    "# Scoring\n",
    "print(classifier.classify(gender_features2('Neo')))\n",
    "print(classifier.classify(gender_features2('Trinity')))\n",
    "print(classifier.classify(gender_features2('Abdelmageed')))# test on my_name (my gerder is  male :D )\n"
   ]
  },
  {
   "cell_type": "code",
   "execution_count": 18,
   "metadata": {},
   "outputs": [
    {
     "name": "stdout",
     "output_type": "stream",
     "text": [
      "0.756\n"
     ]
    }
   ],
   "source": [
    "# Evaluations\n",
    "print(nltk.classify.accuracy(classifier, test_set))"
   ]
  },
  {
   "cell_type": "code",
   "execution_count": 19,
   "metadata": {},
   "outputs": [
    {
     "name": "stdout",
     "output_type": "stream",
     "text": [
      "Most Informative Features\n",
      "             last_letter = 'a'            female : male   =     40.5 : 1.0\n",
      "             last_letter = 'k'              male : female =     27.1 : 1.0\n",
      "             last_letter = 'v'              male : female =     17.7 : 1.0\n",
      "             last_letter = 'f'              male : female =     14.0 : 1.0\n",
      "             last_letter = 'd'              male : female =     12.3 : 1.0\n",
      "None\n"
     ]
    }
   ],
   "source": [
    "# Examine the classifier to determine which features it found most effective;\n",
    "# likelihood ratios\n",
    "print(classifier.show_most_informative_features(5))"
   ]
  }
 ],
 "metadata": {
  "colab": {
   "name": "Gender_classification_nltk_v5.ipynb",
   "provenance": []
  },
  "kernelspec": {
   "display_name": "Python 3",
   "language": "python",
   "name": "python3"
  },
  "language_info": {
   "codemirror_mode": {
    "name": "ipython",
    "version": 3
   },
   "file_extension": ".py",
   "mimetype": "text/x-python",
   "name": "python",
   "nbconvert_exporter": "python",
   "pygments_lexer": "ipython3",
   "version": "3.7.6"
  }
 },
 "nbformat": 4,
 "nbformat_minor": 1
}
